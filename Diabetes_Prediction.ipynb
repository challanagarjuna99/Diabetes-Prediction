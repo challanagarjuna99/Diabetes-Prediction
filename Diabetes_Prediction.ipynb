{
 "cells": [
  {
   "cell_type": "markdown",
   "metadata": {},
   "source": [
    "# DIABETES PREDICTION"
   ]
  },
  {
   "cell_type": "markdown",
   "metadata": {},
   "source": [
    "## Imports:"
   ]
  },
  {
   "cell_type": "code",
   "execution_count": null,
   "metadata": {},
   "outputs": [],
   "source": [
    "import numpy as np\n",
    "import pandas as pd\n",
    "import matplotlib.pyplot as plt\n",
    "import seaborn as sns\n",
    "from sklearn.preprocessing import MinMaxScaler\n",
    "from sklearn.model_selection import train_test_split,GridSearchCV\n",
    "from sklearn.svm import SVC\n",
    "%matplotlib inline\n",
    "sns.set()"
   ]
  },
  {
   "cell_type": "markdown",
   "metadata": {},
   "source": [
    "## Load the Pima Indians Diabetes dataset:"
   ]
  },
  {
   "cell_type": "code",
   "execution_count": null,
   "metadata": {},
   "outputs": [],
   "source": [
    "#load the pima indian diabetes dataset\n",
    "diabetes=pd.read_csv(\"C:\\diabetes.csv\")"
   ]
  },
  {
   "cell_type": "markdown",
   "metadata": {},
   "source": [
    "## Inspect the dataset:"
   ]
  },
  {
   "cell_type": "code",
   "execution_count": null,
   "metadata": {},
   "outputs": [],
   "source": [
    "print(\"diabetes shape is :\",diabetes.shape)\n",
    "print(\"Dataset Description:\\n\")\n",
    "diabetes.describe()"
   ]
  },
  {
   "cell_type": "code",
   "execution_count": null,
   "metadata": {},
   "outputs": [],
   "source": [
    "# Visualise a table with the first rows of the dataset, to better understand the data format\n",
    "print(\"Dataset head :\\n\")\n",
    "diabetes.head()"
   ]
  },
  {
   "cell_type": "markdown",
   "metadata": {},
   "source": [
    "## Visualize the dataset:"
   ]
  },
  {
   "cell_type": "code",
   "execution_count": null,
   "metadata": {},
   "outputs": [],
   "source": [
    "diabetes.hist(bins=50, figsize=(20, 15))\n",
    "plt.show()"
   ]
  },
  {
   "cell_type": "code",
   "execution_count": null,
   "metadata": {},
   "outputs": [],
   "source": [
    "#print the Outcome counts 1/0\n",
    "OutCount=diabetes.groupby(\"Outcome\").size()\n",
    "print(OutCount)\n",
    "OutCount.plot(kind=\"bar\",title=\"Outcome Count\")"
   ]
  },
  {
   "cell_type": "markdown",
   "metadata": {},
   "source": [
    "## Data correalation Matrix:"
   ]
  },
  {
   "cell_type": "code",
   "execution_count": null,
   "metadata": {},
   "outputs": [],
   "source": [
    "#Finding Correlation of attributes with outcome\n",
    "corr_mat=diabetes.corr()"
   ]
  },
  {
   "cell_type": "code",
   "execution_count": null,
   "metadata": {},
   "outputs": [],
   "source": [
    "#correaltion matrix\n",
    "corr_mat"
   ]
  },
  {
   "cell_type": "markdown",
   "metadata": {},
   "source": [
    "### Visualize Predictors Correlation with Outcome:"
   ]
  },
  {
   "cell_type": "code",
   "execution_count": null,
   "metadata": {
    "scrolled": true
   },
   "outputs": [],
   "source": [
    "#plotting a graph for crrelation with Outcome\n",
    "# here 8 is the index value of Outcome column\n",
    "res=corr_mat.iloc[:-1,8]\n",
    "res.plot(kind='barh',title=\"Correlation Graph\")\n"
   ]
  },
  {
   "cell_type": "markdown",
   "metadata": {},
   "source": [
    "#### From the above Correlation graph,It can be inferred that factors like \"Age,BMI and BloodPressure\" which can be measured without taking the blood sample ,ifluence the Outcome(0/1)"
   ]
  },
  {
   "cell_type": "markdown",
   "metadata": {},
   "source": [
    "# Data Cleaning and Transformation:"
   ]
  },
  {
   "cell_type": "markdown",
   "metadata": {},
   "source": [
    "#### There are some zero value records in the dataset."
   ]
  },
  {
   "cell_type": "code",
   "execution_count": null,
   "metadata": {},
   "outputs": [],
   "source": [
    "zeros_Age=(diabetes[\"Age\"]==0).sum()\n",
    "zeros_BMI=(diabetes[\"BMI\"]==0).sum()\n",
    "zeros_BP=(diabetes[\"BloodPressure\"]==0).sum()\n",
    "print(\"Count of Zero values in Age : \",zeros_Age)\n",
    "print(\"Count of Zero values in BMI : \",zeros_BMI)\n",
    "print(\"Count of Zero values in BP : \",zeros_BP)"
   ]
  },
  {
   "cell_type": "markdown",
   "metadata": {},
   "source": [
    "#### Remove these records (zero value) from the dataset and create the required dataset for the model prediction."
   ]
  },
  {
   "cell_type": "markdown",
   "metadata": {},
   "source": [
    "## Creating Dataset for model:"
   ]
  },
  {
   "cell_type": "code",
   "execution_count": null,
   "metadata": {},
   "outputs": [],
   "source": [
    "#temp_ds contains all non zero records of the diabetes dataset\n",
    "temp_ds=pd.DataFrame(diabetes[(diabetes[\"Age\"]>0) & (diabetes[\"BMI\"]>0) & (diabetes[\"BloodPressure\"]>0)])\n",
    "main_dataset=pd.DataFrame(data=temp_ds,columns=[\"Age\",\"BMI\",\"BloodPressure\",\"Outcome\"])\n",
    "print(\"Original dataset dimesnions(diabetes): \",diabetes.shape)\n",
    "print(\"Original dataset without zero value records dimensions(temp_ds): \",temp_ds.shape)\n",
    "print(\"Dataset for Model without zero value records dimensions(main_dataset): \",main_dataset.shape)"
   ]
  },
  {
   "cell_type": "code",
   "execution_count": null,
   "metadata": {},
   "outputs": [],
   "source": [
    "main_dataset.describe()"
   ]
  },
  {
   "cell_type": "markdown",
   "metadata": {},
   "source": [
    "#### main_dataset contains 729 non zero records."
   ]
  },
  {
   "cell_type": "code",
   "execution_count": null,
   "metadata": {},
   "outputs": [],
   "source": [
    "out_count=main_dataset.groupby(\"Outcome\").size()\n",
    "print(out_count)\n",
    "out_count.plot(kind=\"bar\",title=\"Outcome label Count in main Dataset\")"
   ]
  },
  {
   "cell_type": "markdown",
   "metadata": {},
   "source": [
    "# Splitting the Dataset:"
   ]
  },
  {
   "cell_type": "code",
   "execution_count": null,
   "metadata": {},
   "outputs": [],
   "source": [
    "#feature matrix\n",
    "X=main_dataset.iloc[:,:-1]\n",
    "X.head()\n",
    "#X_train,X_test,y_train,y_test=train_test_split(main_dataset,random_state=66)"
   ]
  },
  {
   "cell_type": "code",
   "execution_count": null,
   "metadata": {},
   "outputs": [],
   "source": [
    "#value vector\n",
    "y=main_dataset[\"Outcome\"]\n",
    "y.head()"
   ]
  },
  {
   "cell_type": "code",
   "execution_count": null,
   "metadata": {},
   "outputs": [],
   "source": [
    "# Split the training dataset in 80% / 20%\n",
    "X_train,X_test,y_train,y_test=train_test_split(X,y,test_size=0.2,random_state=60,stratify=y)\n",
    "print(\"X_train shape : \",X_train.shape)\n",
    "print(\"y_train shape : \",y_train.shape)\n",
    "print(\"X_test shape : \",X_test.shape)\n",
    "print(\"y_test shape : \",y_test.shape)"
   ]
  },
  {
   "cell_type": "markdown",
   "metadata": {},
   "source": [
    "## Feature Scaling:"
   ]
  },
  {
   "cell_type": "code",
   "execution_count": null,
   "metadata": {},
   "outputs": [],
   "source": [
    "scaler=MinMaxScaler()\n",
    "X_train_scaled=scaler.fit_transform(X_train)\n",
    "X_test_scaled=scaler.fit_transform(X_test)\n",
    "print(\"type(X_train_scaled) : \",type(X_train_scaled))\n",
    "print(\"type(X_test_scaled) : \",type(X_test_scaled))"
   ]
  },
  {
   "cell_type": "markdown",
   "metadata": {},
   "source": [
    "### Scaled Values:"
   ]
  },
  {
   "cell_type": "code",
   "execution_count": null,
   "metadata": {},
   "outputs": [],
   "source": [
    "#create a pandas dataframe to display the scaled values\n",
    "sv=pd.DataFrame(data=X_train_scaled)\n",
    "sv.head()"
   ]
  },
  {
   "cell_type": "markdown",
   "metadata": {},
   "source": [
    "# Training the SVM model:"
   ]
  },
  {
   "cell_type": "code",
   "execution_count": null,
   "metadata": {},
   "outputs": [],
   "source": [
    "#create instance for SVC\n",
    "svc=SVC()\n",
    "svc.fit(X_train_scaled,y_train)"
   ]
  },
  {
   "cell_type": "markdown",
   "metadata": {},
   "source": [
    "### Check Accuracy:"
   ]
  },
  {
   "cell_type": "code",
   "execution_count": null,
   "metadata": {},
   "outputs": [],
   "source": [
    "# use score of SVC() to find Accuracy\n",
    "train_accuracy=svc.score(X_train_scaled,y_train)\n",
    "test_accuracy=svc.score(X_test_scaled,y_test)\n",
    "print(\"Accuracy on training set: \",train_accuracy)\n",
    "print(\"Accuracy on testing set: \",test_accuracy)"
   ]
  },
  {
   "cell_type": "markdown",
   "metadata": {},
   "source": [
    "## Model Tuning:"
   ]
  },
  {
   "cell_type": "markdown",
   "metadata": {},
   "source": [
    "### Find the best Parameters for SVC."
   ]
  },
  {
   "cell_type": "code",
   "execution_count": null,
   "metadata": {},
   "outputs": [],
   "source": [
    "param_grid = {\n",
    "    'C': [1.0, 10.0, 50.0],\n",
    "    'kernel': ['linear', 'rbf', 'poly', 'sigmoid'],\n",
    "    'shrinking': [True, False],\n",
    "    'gamma': ['auto', 1, 0.1],\n",
    "    'coef0': [0.0, 0.1, 0.5]\n",
    "}\n",
    "\n",
    "model_svc = SVC()\n",
    "\n",
    "grid_search = GridSearchCV(model_svc, param_grid, cv=10, scoring='accuracy')\n",
    "grid_search.fit(X_train_scaled, y_train)"
   ]
  },
  {
   "cell_type": "markdown",
   "metadata": {},
   "source": [
    "#### Print the best score found by GridSearchCV:"
   ]
  },
  {
   "cell_type": "code",
   "execution_count": null,
   "metadata": {},
   "outputs": [],
   "source": [
    "best_score=grid_search.best_score_\n",
    "print(\"Best score = \",best_score)"
   ]
  },
  {
   "cell_type": "markdown",
   "metadata": {},
   "source": [
    "#### Apply the Parameters to the Model and train it:"
   ]
  },
  {
   "cell_type": "code",
   "execution_count": null,
   "metadata": {},
   "outputs": [],
   "source": [
    "# Create an instance of the SVC algorithm using parameters\n",
    "# from best_estimator_ property\n",
    "best_svc = grid_search.best_estimator_\n",
    "#train the model\n",
    "best_svc.fit(X_train_scaled,y_train)"
   ]
  },
  {
   "cell_type": "markdown",
   "metadata": {},
   "source": [
    "### Check Accuracy:"
   ]
  },
  {
   "cell_type": "code",
   "execution_count": null,
   "metadata": {},
   "outputs": [],
   "source": [
    "# use score of SVC() to find Accuracy\n",
    "best_train_accuracy=best_svc.score(X_train_scaled,y_train)\n",
    "best_test_accuracy=best_svc.score(X_test_scaled,y_test)\n",
    "print(\"Best Accuracy on training set: \",best_train_accuracy)\n",
    "print(\"Best Accuracy on testing set: \",best_test_accuracy)"
   ]
  },
  {
   "cell_type": "markdown",
   "metadata": {},
   "source": [
    "## Make a Prediction:"
   ]
  },
  {
   "cell_type": "code",
   "execution_count": null,
   "metadata": {},
   "outputs": [],
   "source": [
    "# # create a new (fake) person by taking the values of Age,BMI and BloodPressure\n",
    "# new_person = pd.DataFrame([[50,33.6,72]])\n",
    "# # Scale those values like the others using MinMaxScaler\n",
    "# new_person_scaled = scaler.transform(new_person)"
   ]
  },
  {
   "cell_type": "code",
   "execution_count": null,
   "metadata": {},
   "outputs": [],
   "source": [
    "# #predict the outcome\n",
    "# #here \"1\" means \"person is likely to have type-2 diabetes\"\n",
    "# # 0 means \"person doesn't have type-2 diabetes\n",
    "# prediction = best_svc.predict(new_person_scaled)\n",
    "# type(prediction)"
   ]
  },
  {
   "cell_type": "code",
   "execution_count": null,
   "metadata": {},
   "outputs": [],
   "source": [
    "# print(\"Prediction value : \",prediction[0])"
   ]
  },
  {
   "cell_type": "code",
   "execution_count": null,
   "metadata": {},
   "outputs": [],
   "source": [
    "# if(prediction==1):\n",
    "#     print(\"You are likely to have type-2 diabetes.\")\n",
    "# else:\n",
    "#     print(\"Congratulations, You don't have type-2 diabetes.\")"
   ]
  },
  {
   "cell_type": "markdown",
   "metadata": {},
   "source": [
    "### Taking the input from user:"
   ]
  },
  {
   "cell_type": "code",
   "execution_count": null,
   "metadata": {},
   "outputs": [],
   "source": [
    "name=input(\"Enter Name : \")\n",
    "age = (int)(input(\"Ager : \"))\n",
    "BMI = (float)(input(\"BMI : \"))\n",
    "BP = (int)(input(\"Blood Pressure : \"))\n",
    "person = pd.DataFrame([[age,BMI,BP]])\n",
    "person_scaled = scaler.transform(person)\n",
    "P_prediction = best_svc.predict(person_scaled)\n",
    "if(P_prediction==1):\n",
    "    print(name,\" are likely to have type-2 diabetes.\")\n",
    "else:\n",
    "    print(\"Congratulations \",name,\",You don't have type-2 diabetes.\")"
   ]
  },
  {
   "cell_type": "code",
   "execution_count": null,
   "metadata": {},
   "outputs": [],
   "source": []
  }
 ],
 "metadata": {
  "kernelspec": {
   "display_name": "Python 3",
   "language": "python",
   "name": "python3"
  },
  "language_info": {
   "codemirror_mode": {
    "name": "ipython",
    "version": 3
   },
   "file_extension": ".py",
   "mimetype": "text/x-python",
   "name": "python",
   "nbconvert_exporter": "python",
   "pygments_lexer": "ipython3",
   "version": "3.7.3"
  }
 },
 "nbformat": 4,
 "nbformat_minor": 2
}
